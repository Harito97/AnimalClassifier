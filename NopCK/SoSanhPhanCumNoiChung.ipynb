{
 "cells": [
  {
   "cell_type": "markdown",
   "metadata": {},
   "source": [
    "### 1. K-Means Clustering\n",
    "\n",
    "#### Ưu điểm:\n",
    "1. **Đơn giản và dễ hiểu**: K-Means là thuật toán đơn giản và dễ triển khai, thường được sử dụng như một phương pháp phân cụm cơ bản.\n",
    "2. **Tốc độ nhanh và hiệu quả**: Với thời gian tính toán là $O(nkdi)$ (trong đó n là số lượng điểm dữ liệu, k là số cụm, d là số chiều dữ liệu, i là số vòng lặp), K-Means rất nhanh và hiệu quả cho các tập dữ liệu lớn.\n",
    "3. **Dễ dàng mở rộng**: K-Means có thể dễ dàng mở rộng cho dữ liệu lớn và được tối ưu hóa để sử dụng trong các môi trường tính toán phân tán.\n",
    "4. **Phổ biến và có nhiều thư viện hỗ trợ**: Có sẵn trong nhiều thư viện phân tích dữ liệu như Scikit-learn (Python), WEKA (Java).\n",
    "\n",
    "#### Nhược điểm:\n",
    "1. **Yêu cầu xác định số cụm trước**: Người dùng phải xác định trước số lượng cụm $k$, điều này có thể khó khăn nếu không biết trước cấu trúc dữ liệu.\n",
    "2. **Nhạy cảm với giá trị ban đầu**: Kết quả của K-Means có thể bị ảnh hưởng bởi giá trị khởi tạo ban đầu. Sử dụng phương pháp khởi tạo thông minh như K-Means++ có thể cải thiện điều này.\n",
    "3. **Giả định cụm hình cầu và cùng kích thước**: K-Means hoạt động tốt với các cụm có hình cầu và cùng kích thước, nhưng không hiệu quả với các cụm có hình dạng phức tạp hoặc kích thước không đều.\n",
    "4. **Không xử lý tốt dữ liệu nhiễu**: K-Means không xử lý tốt các điểm nhiễu và ngoại lệ.\n",
    "\n",
    "### 2. Gaussian Mixture Model (GMM)\n",
    "\n",
    "#### Ưu điểm:\n",
    "1. **Linh hoạt hơn K-Means**: GMM không giả định các cụm có hình dạng cầu hoặc cùng kích thước, thay vào đó mô hình các cụm là các phân phối Gaussian, cho phép xử lý các cụm có hình dạng phức tạp.\n",
    "2. **Xác suất gán cụm**: GMM gán điểm dữ liệu cho cụm dựa trên xác suất, điều này cho phép mô hình xử lý tốt hơn các trường hợp ranh giới giữa các cụm không rõ ràng.\n",
    "3. **Xử lý dữ liệu nhiễu tốt hơn**: GMM có thể xử lý tốt hơn các điểm nhiễu so với K-Means nhờ khả năng gán xác suất.\n",
    "\n",
    "#### Nhược điểm:\n",
    "1. **Phức tạp hơn và yêu cầu nhiều tài nguyên tính toán hơn**: GMM phức tạp hơn K-Means và yêu cầu nhiều tài nguyên tính toán hơn, đặc biệt là khi số chiều của dữ liệu lớn.\n",
    "2. **Cần xác định số cụm trước**: Tương tự như K-Means, GMM cũng yêu cầu xác định trước số lượng cụm.\n",
    "3. **Nhạy cảm với giá trị ban đầu**: GMM cũng bị ảnh hưởng bởi giá trị khởi tạo ban đầu, và việc khởi tạo không tốt có thể dẫn đến hội tụ kém.\n",
    "\n",
    "### 3. Agglomerative Hierarchical Clustering\n",
    "\n",
    "#### Ưu điểm:\n",
    "1. **Không yêu cầu xác định số cụm trước**: Khác với K-Means và GMM, Agglomerative Hierarchical Clustering không yêu cầu xác định trước số cụm. Số cụm có thể được xác định bằng cách cắt dendrogram tại một mức độ nhất định.\n",
    "2. **Tạo ra cấu trúc phân cấp**: Phương pháp này tạo ra một cây phân cấp (dendrogram), giúp hiểu rõ hơn về cấu trúc phân cụm của dữ liệu.\n",
    "3. **Đa dạng về phương pháp hợp nhất cụm**: Có nhiều phương pháp hợp nhất cụm (single linkage, complete linkage, average linkage, Ward’s method) giúp tùy chỉnh quá trình phân cụm cho từng loại dữ liệu cụ thể.\n",
    "\n",
    "#### Nhược điểm:\n",
    "1. **Chi phí tính toán cao**: Thời gian tính toán là $O(n^3)$ và yêu cầu bộ nhớ $O(n^2)$ đối với dữ liệu lớn, do đó khó áp dụng cho các tập dữ liệu rất lớn.\n",
    "2. **Khó khăn trong việc mở rộng**: Không dễ mở rộng cho dữ liệu lớn và phân tán.\n",
    "3. **Nhạy cảm với dữ liệu nhiễu**: Có thể bị ảnh hưởng bởi dữ liệu nhiễu và các điểm ngoại lệ.\n",
    "\n",
    "### Tổng kết\n",
    "\n",
    "| Thuật toán                | Ưu điểm                                                     | Nhược điểm                                                     |\n",
    "|---------------------------|-------------------------------------------------------------|----------------------------------------------------------------|\n",
    "| **K-Means**               | Đơn giản, nhanh, dễ mở rộng, phổ biến                       | Cần xác định số cụm trước, nhạy cảm với giá trị ban đầu, giả định cụm hình cầu, không xử lý tốt dữ liệu nhiễu |\n",
    "| **GMM**                   | Linh hoạt hơn, xác suất gán cụm, xử lý dữ liệu nhiễu tốt hơn| Phức tạp, yêu cầu nhiều tài nguyên, cần xác định số cụm trước, nhạy cảm với giá trị ban đầu |\n",
    "| **Agglomerative Clustering** | Không yêu cầu xác định số cụm trước, tạo ra cấu trúc phân cấp, đa dạng phương pháp hợp nhất cụm | Chi phí tính toán cao, khó mở rộng, nhạy cảm với dữ liệu nhiễu |"
   ]
  }
 ],
 "metadata": {
  "language_info": {
   "name": "python"
  }
 },
 "nbformat": 4,
 "nbformat_minor": 2
}
