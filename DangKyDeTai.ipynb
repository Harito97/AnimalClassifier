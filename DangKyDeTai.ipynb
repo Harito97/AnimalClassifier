{
 "cells": [
  {
   "cell_type": "markdown",
   "metadata": {},
   "source": [
    "# Thành viên trong nhóm"
   ]
  },
  {
   "cell_type": "markdown",
   "metadata": {},
   "source": [
    "- Phạm Ngọc Hải - 21002139  \n",
    "- Lương Đức Anh - 21002117  \n",
    "- Nguyễn Văn Thắng - 21002175"
   ]
  },
  {
   "cell_type": "markdown",
   "metadata": {},
   "source": [
    "# Đề tài lựa chọn"
   ]
  },
  {
   "cell_type": "markdown",
   "metadata": {},
   "source": [
    "Đề tài 5, cụ thể nội dung đề tài:"
   ]
  },
  {
   "cell_type": "markdown",
   "metadata": {},
   "source": [
    "Hãy tự sưu tầm một tập ảnh động vật của ít nhất ba loài động vật khác nhau với số lượng ít nhất 1000 ảnh training\n",
    "và 500 ảnh validation (ví dụ dựa vào tập dữ liệu ảnh chó và mèo đã được giáo viên cung cấp trong phần thực hành và hãy\n",
    "tìm các nguồn ảnh và bổ sung thêm số lượng ảnh tương đương của một loài khác). Đặt các ảnh trong các thư mục theo cấu\n",
    "trúc tương tự như trong bài thực hành CNN đã có.  \n",
    "  \n",
    "- Thực hiện thay đổi hợp lý trên giữ liệu, sau đó thực hiện việc rút gọn số chiều dữ liệu, sau đó tham khảo để hiển thị\n",
    "trực quan các phân lớp dữ liệu dạng 3D hoặc 2D. Đưa ra nhận xét về phân bố của tập dữ liệu cũng như cho biết\n",
    "lượng thông tin mất mát khi giảm chiều (theo cách đánh giá của phương pháp PCA).  \n",
    "  \n",
    "- Thực hiện thay đổi hợp lý trên giữ liệu, sau đó thực hiện phân cụm (clustering) dữ liệu gốc bằng 01 thuật toán phân\n",
    "cụm. Hiển thị trực quan và đánh dấu các cụm.\n",
    "  \n",
    "- Đưa dữ liệu về dạng ảnh 150x150 pixels, sau đó giảm số chiều xuống còn 225 chiều bằng phương pháp phân tích\n",
    "thành phần chính PCA (lưu ý quy trình giảm chiều và sử dụng dữ liệu giảm chiều hợp lý). Xây dựng chương trình sử\n",
    "dụng mô hình ANN (mạng neural nhân tạo – dạng full connection) để phân loại các hình ảnh, huấn luyện mô hình\n",
    "bằng tập dữ liệu training sau đó chạy kiểm tra với dữ liệu trong tập validation.  \n",
    "   \n",
    "- Xây dựng chương trình sử dụng mô hình Multinomial Logistic Regression (Softmax) để phân loại các hình ảnh, huấn\n",
    "luyện mô hình bằng tập dữ liệu training sau đó chạy kiểm tra với dữ liệu trong tập validation.  \n",
    "  \n",
    "- Xây dựng chương trình sử dụng mô hình Multi-Classes Support Vector Machine để phân loại các hình ảnh, huấn\n",
    "luyện mô hình bằng tập dữ liệu training sau đó chạy kiểm tra với dữ liệu trong tập validation.  \n",
    "  \n",
    "- So sánh độ chính xác (sử dụng accuracy, confusion matrix, recall và precision) của các mô hình trong ý 4) và ý 3).\n",
    "Cho nhận xét cũng như giải thích về kết quả.  \n",
    "  \n",
    "Yêu cầu giữa kỳ: 1) 3) 4) và phần tương ứng của ý 6). Giành cho nhóm tối đa 03 thành viên."
   ]
  },
  {
   "cell_type": "markdown",
   "metadata": {},
   "source": [
    "# Bố cục soạn script report GK  \n",
    "1. Dataset: Thực hiện giảm chiều và trực quan hóa data và nhận xét ... - Thắng  \n",
    "2. Method (diễn giải: 1. lý thuyết toán học phía sau, 2. cách thực hiện):  \n",
    "    2.1. ANN - Hải  \n",
    "    2.2. SoftMax - Đ.Anh  \n",
    "3. Implementation (ý nghĩa các thao tác triển khai ở code):  \n",
    "    3.1. ANN - Hải  \n",
    "    3.2. SoftMax - Đ.Anh  \n",
    "4. Result (diễn giải và giải thích kết quả thu được tương ứng với các phương pháp):  \n",
    "    4.1. ANN - Hải  \n",
    "    4.2. SoftMax - Đ.Anh  \n",
    "5. Conclusion:  \n",
    "    All"
   ]
  }
 ],
 "metadata": {
  "language_info": {
   "name": "python"
  }
 },
 "nbformat": 4,
 "nbformat_minor": 2
}
