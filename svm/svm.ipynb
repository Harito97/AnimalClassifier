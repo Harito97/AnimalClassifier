{
 "cells": [
  {
   "cell_type": "code",
   "execution_count": 1,
   "metadata": {},
   "outputs": [],
   "source": [
    "import numpy as np\n",
    "\n",
    "# Đây là những dữ liệu đã giảm chiều về 255\n",
    "# Read train data\n",
    "train_images = np.load('../data_processed/train_images_datav2.npy')\n",
    "train_labels = np.load('../data_processed/train_labels_datav2.npy')\n",
    "\n",
    "# Read validation data\n",
    "val_images = np.load('../data_processed/val_images_datav2.npy')\n",
    "val_labels = np.load('../data_processed/val_labels_datav2.npy')\n",
    "\n",
    "# Read test data\n",
    "test_images = np.load('../data_processed/test_images_datav2.npy')\n",
    "test_labels = np.load('../data_processed/test_labels_datav2.npy')"
   ]
  },
  {
   "cell_type": "code",
   "execution_count": 9,
   "metadata": {},
   "outputs": [],
   "source": [
    "# Prepare data and labels\n",
    "X_train = train_images\n",
    "y_train = train_labels\n",
    "\n",
    "X_val = val_images\n",
    "y_val = val_labels\n",
    "\n",
    "X_test = test_images\n",
    "y_test = test_labels"
   ]
  },
  {
   "cell_type": "code",
   "execution_count": 5,
   "metadata": {},
   "outputs": [
    {
     "name": "stdout",
     "output_type": "stream",
     "text": [
      "Requirement already satisfied: joblib in c:\\users\\lenovo\\appdata\\local\\programs\\python\\python312\\lib\\site-packages (1.4.2)\n"
     ]
    }
   ],
   "source": [
    "%pip install joblib"
   ]
  },
  {
   "cell_type": "code",
   "execution_count": 7,
   "metadata": {},
   "outputs": [
    {
     "name": "stdout",
     "output_type": "stream",
     "text": [
      "Requirement already satisfied: joblib in c:\\users\\lenovo\\appdata\\local\\programs\\python\\python312\\lib\\site-packages (1.4.2)\n",
      "Note: you may need to restart the kernel to use updated packages.\n"
     ]
    }
   ],
   "source": [
    "from sklearn import svm\n",
    "from sklearn.metrics import accuracy_score\n",
    "%pip install joblib\n",
    "import joblib"
   ]
  },
  {
   "cell_type": "code",
   "execution_count": 13,
   "metadata": {},
   "outputs": [],
   "source": [
    "# Build SVM model\n",
    "model_linear = svm.SVC(kernel='linear')\n",
    "\n",
    "# Train the model_linear on the whole training set\n",
    "model_linear.fit(X_train, y_train)\n",
    "\n",
    "# Save the model_linear to a file\n",
    "joblib.dump(model_linear, 'svm_model_linear.pkl')\n",
    "\n",
    "# Predict labels for the test set\n",
    "y_test_pred = model_linear.predict(X_test)\n",
    "\n",
    "# Evaluate the model on the test set\n",
    "accuracy_test = accuracy_score(y_test, y_test_pred)\n",
    "print(\"Test Accuracy:\", accuracy_test)"
   ]
  },
  {
   "cell_type": "code",
   "execution_count": 11,
   "metadata": {},
   "outputs": [
    {
     "name": "stdout",
     "output_type": "stream",
     "text": [
      "Test Accuracy: 0.1897590361445783\n"
     ]
    }
   ],
   "source": [
    "# Build SVM model\n",
    "model_poly = svm.SVC(kernel='poly')\n",
    "\n",
    "# Train the model_poly on the whole training set\n",
    "model_poly.fit(X_train, y_train)\n",
    "\n",
    "# Save the model_poly to a file\n",
    "joblib.dump(model_poly, 'svm_model_poly.pkl')\n",
    "\n",
    "# Predict labels for the test set\n",
    "y_test_pred = model_poly.predict(X_test)\n",
    "\n",
    "# Evaluate the model on the test set\n",
    "accuracy_test = accuracy_score(y_test, y_test_pred)\n",
    "print(\"Test Accuracy:\", accuracy_test)"
   ]
  },
  {
   "cell_type": "code",
   "execution_count": 12,
   "metadata": {},
   "outputs": [
    {
     "name": "stdout",
     "output_type": "stream",
     "text": [
      "Test Accuracy: 0.1827309236947791\n"
     ]
    }
   ],
   "source": [
    "# Build SVM model\n",
    "model_sigmoid = svm.SVC(kernel='sigmoid')\n",
    "\n",
    "# Train the model_sigmoid on the whole training set\n",
    "model_sigmoid.fit(X_train, y_train)\n",
    "\n",
    "# Save the model_sigmoid to a file\n",
    "joblib.dump(model_sigmoid, 'svm_model_sigmoid.pkl')\n",
    "\n",
    "# Predict labels for the test set\n",
    "y_test_pred = model_sigmoid.predict(X_test)\n",
    "\n",
    "# Evaluate the model on the test set\n",
    "accuracy_test = accuracy_score(y_test, y_test_pred)\n",
    "print(\"Test Accuracy:\", accuracy_test)"
   ]
  }
 ],
 "metadata": {
  "kernelspec": {
   "display_name": "Python 3",
   "language": "python",
   "name": "python3"
  },
  "language_info": {
   "codemirror_mode": {
    "name": "ipython",
    "version": 3
   },
   "file_extension": ".py",
   "mimetype": "text/x-python",
   "name": "python",
   "nbconvert_exporter": "python",
   "pygments_lexer": "ipython3",
   "version": "3.12.3"
  }
 },
 "nbformat": 4,
 "nbformat_minor": 2
}
